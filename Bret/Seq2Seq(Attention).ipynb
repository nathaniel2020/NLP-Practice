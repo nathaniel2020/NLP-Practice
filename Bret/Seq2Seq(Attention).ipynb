{
 "cells": [
  {
   "cell_type": "code",
   "execution_count": 1,
   "metadata": {
    "collapsed": true
   },
   "outputs": [],
   "source": [
    "import torch\n",
    "import numpy as np"
   ]
  },
  {
   "cell_type": "markdown",
   "source": [
    "## 处理数据\n",
    "1. 单词级one-hot"
   ],
   "metadata": {
    "collapsed": false,
    "pycharm": {
     "name": "#%% md\n"
    }
   }
  },
  {
   "cell_type": "code",
   "execution_count": 5,
   "outputs": [],
   "source": [
    "sentences = ['ich mochte ein bier P', 'S i want a beer', 'i want a beer E']\n",
    "\n",
    "word_list = ' '.join(sentences).split(' ')\n",
    "word_list = list(set(word_list))\n",
    "\n",
    "word_to_idx = {word: idx for idx, word in enumerate(word_list)}\n",
    "idx_to_word = {idx: word for idx, word in enumerate(word_list)}"
   ],
   "metadata": {
    "collapsed": false,
    "pycharm": {
     "name": "#%%\n"
    }
   }
  },
  {
   "cell_type": "code",
   "execution_count": 6,
   "outputs": [],
   "source": [
    "time_steps = 5\n",
    "n_classes = len(word_list)"
   ],
   "metadata": {
    "collapsed": false,
    "pycharm": {
     "name": "#%%\n"
    }
   }
  },
  {
   "cell_type": "code",
   "execution_count": 7,
   "outputs": [],
   "source": [
    "def make_batch():\n",
    "    input_batch = [np.eye(n_classes)[[word_to_idx[word] for word in sentences[0].split()]]]\n",
    "    output_batch = [np.eye(n_classes)[[word_to_idx[word] for word in sentences[1].split()]]]\n",
    "    target_batch = [[word_to_idx[word] for word in sentences[2].split()]]\n",
    "\n",
    "    return (\n",
    "        torch.FloatTensor(input_batch),\n",
    "        torch.FloatTensor(output_batch),\n",
    "        torch.LongTensor(target_batch)\n",
    "    )"
   ],
   "metadata": {
    "collapsed": false,
    "pycharm": {
     "name": "#%%\n"
    }
   }
  },
  {
   "cell_type": "code",
   "execution_count": 8,
   "outputs": [],
   "source": [
    "input_batch, output_batch, target_batch = make_batch()"
   ],
   "metadata": {
    "collapsed": false,
    "pycharm": {
     "name": "#%%\n"
    }
   }
  },
  {
   "cell_type": "code",
   "execution_count": null,
   "outputs": [],
   "source": [],
   "metadata": {
    "collapsed": false,
    "pycharm": {
     "name": "#%%\n"
    }
   }
  }
 ],
 "metadata": {
  "kernelspec": {
   "display_name": "Python 3",
   "language": "python",
   "name": "python3"
  },
  "language_info": {
   "codemirror_mode": {
    "name": "ipython",
    "version": 2
   },
   "file_extension": ".py",
   "mimetype": "text/x-python",
   "name": "python",
   "nbconvert_exporter": "python",
   "pygments_lexer": "ipython2",
   "version": "2.7.6"
  }
 },
 "nbformat": 4,
 "nbformat_minor": 0
}